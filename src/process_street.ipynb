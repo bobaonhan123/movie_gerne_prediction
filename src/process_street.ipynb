{
 "cells": [
  {
   "cell_type": "markdown",
   "id": "1a9a2d3c",
   "metadata": {},
   "source": [
    "### Generate street name and district mapping\n",
    "- We will generate a mapping of street names to districts using the dataset \"Danh sách tên các con đường tại thành phố Đà Nẵng\" [1]"
   ]
  },
  {
   "cell_type": "code",
   "execution_count": 1,
   "id": "a51f553e",
   "metadata": {},
   "outputs": [],
   "source": [
    "import pandas as pd\n",
    "import re\n",
    "import numpy as np\n",
    "\n",
    "df = pd.read_excel(\"../input_data/danh_sach_ten_cac_con_duong_tai_thanh_pho_da_nang_.xlsx\")\n",
    "\n",
    "def extract_quan(mo_ta):\n",
    "    if not isinstance(mo_ta, str):\n",
    "        return None\n",
    "    match = re.search(r\"quận[:\\s]*([^\\n\\.,\\d]*)\", mo_ta, re.IGNORECASE)\n",
    "    if match:\n",
    "        return match.group(1).strip()\n",
    "    matches = re.findall(r\"quận[:\\s]*([^\\n\\.,\\d]*)\", mo_ta, re.IGNORECASE)\n",
    "    districts = [m.strip() for m in matches if m.strip()]\n",
    "    if districts:\n",
    "        return \", \".join(districts)\n",
    "    # Nếu không tìm thấy, thử regex khác\n",
    "    matches = re.findall(r\"thuộc quận[:\\s]*([^\\n\\.,\\d]*)\", mo_ta, re.IGNORECASE)\n",
    "    districts = [m.strip() for m in matches if m.strip()]\n",
    "    if districts:\n",
    "        return \", \".join(districts)\n",
    "    # Thử thêm một regex nữa nếu vẫn chưa có\n",
    "    matches = re.findall(r\"phường[:\\s]*[^\\n\\.,\\d]*,\\s*quận[:\\s]*([^\\n\\.,\\d]*)\", mo_ta, re.IGNORECASE)\n",
    "    districts = [m.strip() for m in matches if m.strip()]\n",
    "    if districts:\n",
    "        return \", \".join(districts)\n",
    "    return None\n",
    "\n",
    "\n",
    "df[\"district\"] = df[\"Mô tả\"].apply(extract_quan)\n",
    "df[\"street\"] = df[\"Tên đường\"]\n",
    "df[\"district\"] = (\n",
    "    df[\"district\"]\n",
    "    .astype(str)\n",
    "    .str.replace(r\"\\s+\", \" \", regex=True)           # Replace multiple spaces with one\n",
    "    .str.strip()                                    # Remove leading/trailing spaces\n",
    "    .str.replace(r\"[^a-zA-ZÀ-ỹà-ỹ0-9\\s]\", \"\", regex=True)  # Remove non-alphanumeric (keep Vietnamese chars)\n",
    ")\n",
    "df[\"street\"] = df[\"street\"].astype(str).str.strip()\n",
    "df = df.drop_duplicates(subset=[\"street\"], keep=\"first\")\n"
   ]
  },
  {
   "cell_type": "markdown",
   "id": "45223984",
   "metadata": {},
   "source": [
    "### Random with roulette wheel selection\n",
    "- We will use a random selection method with roulette wheel selection to choose a street name and district from the generated mapping."
   ]
  },
  {
   "cell_type": "code",
   "execution_count": 2,
   "id": "d880ccf5",
   "metadata": {},
   "outputs": [],
   "source": [
    "valid_districts = df[\"district\"][df[\"district\"].notnull() & (df[\"district\"].str.strip() != \"\") & (df[\"district\"].str.strip() != \"None\")]\n",
    "\n",
    "district_counts = valid_districts.value_counts(normalize=True)\n",
    "\n",
    "mask_missing = df[\"district\"].isnull() | (df[\"district\"].str.strip() == \"\") | (df[\"district\"].str.strip() == \"None\")\n",
    "\n",
    "np.random.seed(42)\n",
    "\n",
    "random_districts = np.random.choice(\n",
    "    district_counts.index,\n",
    "    size=mask_missing.sum(),\n",
    "    p=district_counts.values\n",
    ")\n",
    "\n",
    "df.loc[mask_missing, \"district\"] = random_districts\n"
   ]
  },
  {
   "cell_type": "markdown",
   "id": "7d7f99df",
   "metadata": {},
   "source": [
    "### Comments: The output data still contains rows such as \"Nguyễn Triệu Luật, Ngũ Hành Sơn vào năm\", which indicates that further normalization is needed.\n",
    "- We will use dynamic programming to normalize the district names."
   ]
  },
  {
   "cell_type": "code",
   "execution_count": 3,
   "id": "a6eeb28e",
   "metadata": {},
   "outputs": [],
   "source": [
    "from algorithms import StringComparison\n",
    "# Re-read the Excel file to get candidate district names for normalization (assumes the file contains columns \"Tỉnh / Thành Phố\" and \"Tên\")\n",
    "df_candidate = pd.read_excel(\"../input_data/DanhSachCapHuyen14_05_2025.xlsx\")\n",
    "\n",
    "# Filter by city \"Thành phố Đà Nẵng\"\n",
    "df_candidate = df_candidate[df_candidate[\"Tỉnh / Thành Phố\"] == \"Thành phố Đà Nẵng\"]\n",
    "\n",
    "# Get unique candidate names from the \"Tên\" column\n",
    "candidate_districts = df_candidate[\"Tên\"].dropna().unique()\n",
    "\n",
    "# Normalize the district column in df using candidate names if similarity >= 0.7\n",
    "def normalize_district(district):\n",
    "    best_match = district\n",
    "    best_ratio = 0.0\n",
    "    for cand in candidate_districts:\n",
    "        comparison = StringComparison(district.lower(), str(cand).lower())\n",
    "        ratio = comparison.similarity()\n",
    "        if ratio >= 0.7 and ratio > best_ratio:\n",
    "            best_match = cand\n",
    "            best_ratio = ratio\n",
    "    return best_match\n",
    "\n",
    "df[\"district\"] = df[\"district\"].apply(normalize_district)\n",
    "df[\"district\"] = df[\"district\"].str.replace(r\"\\bQuận\\s*\", \"\", regex=True)"
   ]
  },
  {
   "cell_type": "code",
   "execution_count": 4,
   "id": "ca509793",
   "metadata": {},
   "outputs": [
    {
     "name": "stdout",
     "output_type": "stream",
     "text": [
      "Exported district and street to processed_data/street_district.csv\n"
     ]
    }
   ],
   "source": [
    "\n",
    "df[[\"street\", \"district\"]].to_csv(\"../processed_data/street_district.csv\", index=False)\n",
    "print(\"Exported district and street to processed_data/street_district.csv\")"
   ]
  },
  {
   "cell_type": "code",
   "execution_count": 6,
   "id": "d5090eb1",
   "metadata": {},
   "outputs": [
    {
     "name": "stdout",
     "output_type": "stream",
     "text": [
      "combined ['Trung Nghĩa 4', 'Hoài Thanh', 'Hòa Minh 6', 'Mỹ Đa Tây 8', 'Tân Lưu', 'Tôn Đản', 'Xuân Thiều 34', 'Hòa Bình 5', 'Lê Hữu Khánh', 'Lỗ Giáng 11', 'Phong Bắc 7', 'Trần Hữu Duẩn', 'Trần Bích San', 'Quán Khải 8', 'Nguyễn Văn Cừ', 'An Thượng 18', 'Hoàng Minh Thảo', 'Hoàng Tích Trí', 'Cẩm Chánh 2', 'Phong Bắc', 'Nam Trân', 'Sơn Thủy 5', 'Lê Khắc Cần', 'Trung Nghĩa 6', 'Đức Lợi 2', 'Lê Đình Chinh', 'Lương Định Của', 'Hoàng Văn Thụ', 'Tiên Sơn 17', 'Tống Duy Tân', 'Thanh Vinh 6', 'Nguyễn Chu Sĩ', 'Liêm Lạc 5', 'Phong Bắc 5', 'Kim Đồng', 'Đa Mặn 5', 'Bùi Xương Trạch', 'Nguyễn Văn Huề', 'Thích Phước Huệ', 'Hòa Phú 22', 'Lương Thúc Kỳ', 'Bá Giáng 11', 'Hàm Trung 5', 'Thanh Huy 3', 'Hoàng Ngân', 'Nhơn Hòa 6', 'Phú Lộc 3', 'Hòa An 7', 'Vũ Văn Cẩn', 'An Hoà 7', 'Phan Huy Chú', 'Hồ Sỹ Đống', 'Nguyễn Xuân Nhĩ', 'Cao Sơn 3', 'An Hải 12', 'An Bắc 3', 'Tiên Sơn 15', 'An Thượng 3', 'Vùng Trung 1', 'Suối Đá 2', 'Đông Hải 14', 'Nguyễn Khoa Chiêm', 'Nguyễn Chu Sỹ', 'Đào Duy Kỳ', 'Thuỷ Sơn 4', 'Non Nước', 'Trần Cừ', 'Lê Lâm', 'Thích Quảng Đức', 'Bàu Trãng 5', 'Nguyễn Văn Thoại', 'Bàu Mạc 3', 'Ngô Gia Khảm', 'Cổ Mân Lan 3', 'Hòa Nam 4', 'Mỹ An 11', 'Hói Kiểng 6', 'Đức Lợi 1', 'Trần Sâm', 'Phạm Ngũ lão', 'Xuân Đán 2', 'Hòa Minh 2', 'Tân An 2', 'Bàu Trãng 3', 'Hồ Đắc Di', 'Cổ Mân Cúc 1', 'Xuân Thiều 5', 'Lộc Phước 1', 'Đỗ Xuân Cát', 'Tô Hiệu', 'Bình Minh 2', 'Hoàng Hoa Thám', 'Hòa Minh 3', 'Sơn Thủy 10', 'Kim Liên 1', 'Ninh Tốn', 'Phần Lăng 6', 'Đồng Phước Huyến', 'Đặng Thái Thân', 'Mỹ An 14', 'Bình Hoà 9', 'Huyền Trân Công Chúa', 'Trừ Văn Thố', 'Pham Vấn', 'Trịnh Công Sơn', 'Dương Bạch Mai', 'Cẩm Nam 3', 'Hàn Mặc Tử', 'Lý Thái Tông', 'Sơn Thủy 8', 'Bàu Hạc 8', 'Đồng Trí 4', 'Mân Quang 7', 'Cẩm Bắc 4', 'Xuân Thiều 9', 'Trần Đình Phong', 'Dương Thị Xuân Quý', 'Võ Văn Tần', 'Dương Sơn 3', 'Bờ Quan 8', 'Lã Xuân Oai', 'Tân Thái 4', 'Bàu Vàng 5', 'Mạc Thị Bưởi', 'Sơn Thủy Đông 4', 'Trần Hữu Độ', 'An Hải Bắc 3', 'Bùi Quốc Hưng', 'Đoàn Trần Nghiệp', 'Đô Đốc Bảo', 'Dương Thưởng', 'An Cư 7', 'Nguyễn Tuân', 'Phần Lăng 1', 'Nguyễn Phước Nguyên', 'Sương Nguyệt Ánh', 'Hàm Trung 1', 'Phan Văn Hớn', 'Tạ Mỹ Duật', 'Thích Thiện Chiếu', 'Phước Hòa', 'Chu Văn An', 'Nguyễn Phan Vinh', 'Thuận An 5', 'Đông Trà 3', 'Đá Mọc 1', 'Mỹ An 15', 'Phước Trường 5', 'Yên Bái', 'Phan Văn Thuật', 'Chơn Tâm 5', 'Hà Huy Giáp', 'Nguyễn Văn Bổng', 'Phần Lăng 8', 'Phần Lăng 3', 'Mộc Bài 2', 'Khuê Mỹ Đông 1', 'Thúc Tề', 'Trần Bạch Đằng', 'Nguyễn Phạm Tuân', 'Lê Thị Riêng', 'Hồ Tùng Mậu', 'Thanh Huy 1', 'Lâm Quang Thự', 'Đoàn Ngọc Nhạc', 'Đa Mặn 2', 'Hói Kiểng 1', 'Xuân Thiều 1', 'Cao Lỗ', 'Tú Quỳ', 'Nguyễn Văn Siêu', 'Mỹ An 12', 'Bạch Đằng', 'Ngô Quang Huy', 'Mỹ An 21', 'Đỗ Thúc Tịnh', 'Châu Văn Liêm', 'Lê Bôi', 'Lỗ Giáng 8', 'La Bông 6', 'Đông Trà 6', 'Hoàng Sâm', 'Nguyễn Văn Phương', 'Lê Vĩnh Huy', 'Trương Hán Siêu', 'Lê Tấn Trung', 'Lý Triện', 'Đai An 4', 'Nguyễn Sĩ Cố', 'Khái Đông 1', 'Bình Thái 2', 'Phú Lộc 12', 'Bàu Nghè 5', 'Âu Cơ', 'Lê Quang Định', 'Dương Sơn 7', 'Đinh Nhật Thận', 'Nam Thành', 'Nguyễn Khang', 'Cồn Dầu 2', 'Tân Phú 1', 'Nguyễn Công Trứ', 'Phong Bắc 11', 'Đa Mặn 3', 'Trần Văn Đang', 'Nguyễn Đôn Triết', 'Bình Hoà 6', 'Bờ Quan 9', 'Tân Phú 2', 'Tống Phước Phổ', 'An Thượng 30', 'Trần Nam Trung', 'Lê Quý Đôn', 'Võ Văn Đặng', 'Tân Thái 6', 'Nguyễn Phước Tần', 'An Hải Bắc 7', 'Nguyễn Khuyến', 'Dương Sơn 9', 'Mỹ An 10', 'Văn Cao', 'Cổ Mân Mai 4', 'Đông Hải 8', 'Hòa Nam 3', 'Bàu Mạc 23', 'Dương Đình Nghệ', 'Nguyễn Khắc Nhu', 'Lỗ Giáng 1', 'Vạn Hạnh', 'Bá Giáng 6', 'Cẩm Bắc 5', 'Kim Liên 3', 'Hói Kiểng 3', 'Tân Thái 2', 'Nguyễn Bá Ngọc', 'Phần Lăng 14', 'PHước Mỹ, sơn Trà', 'Lê Công Kiều', 'Trần Phước Thành', 'Nguyễn Thiếp', 'An Ngãi 6', 'Lê Văn Tâm', 'Lý Thiên Bảo', 'Trung Lương 6', 'Đa Mặn 7', 'Hòa Phú 24', 'Trương Chí Cương', 'An Hoà 6', 'Tiên Sơn 13', 'Nguyễn Trung Ngạn', 'Hòa Phú 20', 'Nguyễn Minh Không', 'An Thượng 11', 'Triệu Nữ Vương', 'Bàu Hạc 1', 'Lưu Trọng Lư', 'An Hải 2', 'Lưu Quý Kỳ', 'Thủ Khoa Huân', 'Trần Huân', 'An Thượng 32', 'Lê Thuyết Hùng', 'Lê Doãn Nhạ', 'Lỗ Giáng 10', 'Dương Sơn 1', 'Đào Công Soạn', 'An Hải 4', 'Bàu Mạc 10', 'Hòa An 1', 'Bùi Xương Tự', 'Hòa Minh 17', 'Phùng Chí Kiên', 'Vũ Quỳnh', 'An Nhơn 3', 'Thanh Vinh 7', 'Mỹ An 5', 'Trần Nhân Tông', 'Trịnh Hoài Đức', 'Thanh Tịnh', 'Đông Hải 11', 'Ca Văn Thỉnh', 'Lê Đình Lý(nối dài)', 'Thái Thị Bôi', 'Bùi Viện', 'Nại Nghĩa 7', 'Phước Trường 7', 'Tùng Lâm 3', 'Hoàng Văn Hoè', 'Đá Mọc 5', 'Lê Trung Đình', 'Nhơn Hòa 4', 'Đào Doãn Địch', 'Trần Hưng Đạo', 'Đa Phước 5', 'Lê Cao Lãng', 'Đông Trà 7', 'Thanh Vinh 2', 'Lỗ Giáng 21', 'Cống Quỳnh', 'Đô Đốc Lân', 'Thanh Huy 2', 'Đông Lợi 3', 'Mỹ Thị 2', 'Trương Gia Mô', 'An Thượng 31', 'Mỹ Đa Tây 3', 'Mỹ An 25', 'Đai An 3', 'Bá Giáng 9', 'Hoàng Công Chất', 'Đa Mặn 9', 'Võ Quảng', 'Mỹ Đa Tây 5', 'Nguyễn Phục', 'Hòa Phú 23', 'Huỳnh Xuân Nhị', 'Lê Duẩn', 'Nại Hiên Đông 16', 'Trung Lương 5', 'Lư Giang', 'Alexandre Yersin (Yersin)', 'An Hải 11', 'Nại Hiên Đông 14', 'La Bông 2', 'Nguyễn Trãi', 'Liêm Lạc 4', 'Dương Sơn 11', 'La Bông 4', 'Kim Liên 2', 'Hà Khê', 'Phạm PHú  Tiết', 'Mỹ Đa Đông 4', 'Quán Khái 10', 'Bàu Làng', 'Mai Anh Tuấn', 'Bàu Nghè 2', 'Trần Xuân Soạn', 'Lê Hy', 'Quy Mỹ', 'Lương Đắc Bằng', 'An Bắc 2', 'Tùng Lâm 5', 'Mộc Bài 5', 'Quán Khải 4', 'Hoàng Đình Ái', 'Phú Thạnh 2', 'Doãn Kế Thiện', 'Thuận An 2', 'Mân Quang 8', 'Nguyễn Hữu Đức', 'Nguyễn Chí Thanh', 'Đốc Ngữ', 'Hoàng Xuân Hãn', 'Lê Thận', 'Minh Mạng', 'Cẩm Bắc 9', 'Hoàng Quốc Việt', 'Lê Văn An', 'Huỳnh Thị Một', 'Bàu Vàng 2', 'Đông Giang', 'Nguyễn Thượng Hiền', 'Thuỷ Sơn 1', 'Lương Văn Can', 'Nam Cao', 'Mỹ Đa Đông 8', 'Huyện Hòa Vang', 'Chương Dương', 'Lê Văn Thủ', 'Cao Sơn 4', 'Đông Hải 5', 'Phan Văn Trị', 'Tố Hữu (nối dài)', 'Lê Thanh Nghị', 'An Thượng 19', 'Lê Bá Trinh', 'Nguyễn Thị Ba', 'Nại Tú 2', 'Khuê Mỹ Đông 3', 'Lưu Hữu Phước', 'Hòa Bình 1', 'Thái Phiên', 'Lương Hữu Khánh', 'Phan Văn Định', 'Hói Kiểng 2', 'Lê Đại Hành', 'Trần Phú', 'Võ Duy Dương', 'Hòa Nam 2', 'Lê Vĩnh Khanh', 'Nguyễn Biểu', 'Xuân Thiều 35', 'Đặng Minh Khiêm', 'Francis Henry Loseby (Loseby)', 'Liêm Lạc 10', 'Trần Kim Bảng', 'Hòa Bình 2', 'Nguyễn Lý', 'Nguyễn Chích', 'Lê Cảnh Tuân', 'Lý Tế Xuyên', 'An Thượng 10', 'Hòa Minh 14', 'Hòa Mỹ 4', 'Trần Xuân Lê', 'Trần Ngọc Sương', 'Tú Mỡ', 'Hồ Bá Ôn', 'Thăng Long', 'Xuân Thiều 12', 'Lê Thiện Trị', 'Cẩm Bắc 1', 'Đặng Nguyên Cẩn', 'An Thượng 4', 'An Thượng 8', 'Dương Tôn Hải', 'Bàu Trảng 7 (Khu dân cư Thanh Lộc Đán mới )', 'Nại Nam', 'Nguyễn Cao', 'Đồng Trí 1', 'Mân Quang 4', 'Tự Đức', 'Mỹ An 16', 'Nguyễn Tạo', 'Bình Hoà 10', 'Phùng Khắc Khoan', 'Thanh Vinh 3', 'Đa Phước 2', 'Lưu Nhân Chú', 'Kỳ Đồng', 'Nguyễn Lâm', 'Phú Lộc 15', 'Bàu Nghè 7', 'Đặng Văn Ngữ', 'Phan Thêm', 'Trường Chinh', 'Quán Khải 7', 'Nguyễn Đức An', 'Lỗ Giáng 15', 'Phước Trường 8', 'Phạm Ngọc Thạch', 'Nguyễn Triệu Luật', 'Tô Hiến Thành', 'Trần Tấn Mới', 'Bá Giáng 4', 'Ngọc Hồi', 'Bàu Tràm 3', 'Vũ Ngọc Phan', 'Nguyễn Chí Trung', 'An Trung 1', 'Đa Phước 3', 'Lê Đại', 'Liêm Lạc 3', 'Ngô Thì Hương', 'Huỳnh Thúc Kháng', 'Bình Hoà 2', 'Hàm Trung 6', 'Trần Thanh Trung', 'Trần Văn Lan', 'Chơn Tâm 7', 'Mạc Thiên Tứ', 'Trần Thủ Độ', 'Cù Chính Lan', 'Võ Duy Đoán', 'Đặng Trần Côn', 'Đống Đa', 'An Nhơn 4', 'Đà Sơn 6', 'Ngô Chân Lưu', 'Nguyễn Phước Chu', 'Hòa Minh 4', 'Thép Mới', 'Trần Văn Kỳ', 'Nguyễn Chơn', 'Nguyễn Đình Trọng', 'Vũ Lập', 'Hà Văn Tính', 'Lê Quang Đạo', 'Trung Hòa 3', 'Chế Lan Viên', 'Phong Bắc 2', 'Nguyễn Văn Trỗi', 'Hoàng Văn Thái', 'Mộc Bài 6', 'Bàu Nghè 4', 'Hương Hải Thiền Sư', 'Chi Lăng', 'Lê Tự Thống Nhất', 'Nguyễn Thị Minh Khai', 'Trường Sa', 'Pham Sư Mạnh', 'Hàn Thuyên', 'Tân Thái 10', 'Châu Thượng Văn', 'Cao Sơn 5', 'An Thượng 12', 'Nguyễn Gia Trí', 'Bình Thái 1', 'Đá Mọc 4', 'Trần Anh Tông', 'Sơn Thủy 11', 'Lý Tự Trọng', 'Nguyễn Đức Thuận', 'Phan Quang Định', 'Tùng Lâm 6', 'An Đồn 5', 'Phước Hòa 1', 'Yên Thế', 'Đông Phước 4', 'Dương Vân Nga', 'Hoàng Diệu', 'Xuân Hòa 1', 'Nguyễn Đức Trung', 'Nại Nghĩa 1', 'Vĩnh Tân', 'Phần Lăng 5', 'Bình Hòa 14', 'Phạm Văn Bạch', 'Hòa Minh 19', 'Nguyễn Trực', 'Thanh Hóa', 'Trần Quý Cáp', 'Cầm Bá Thước', 'Nguyễn Thị Hồng', 'Đinh Thị Vân', 'An Hải 14', 'Mỹ Đa Tây 6', 'Mân Quang 3', 'Hồ Xuân Hương', 'Nguyễn Thanh Năm', 'Lê Văn Thứ', 'Nguyễn Văn Xuân', 'Hòa Minh 12', 'Phước Trường 9', 'Hòa Phú 30', 'Trần Văn Thành', 'Nguyễn Thị Thập', 'Dương Khuê', 'Nại Tú 1', 'Ông Ích Đường', 'Nguyễn Trọng Nghĩa', 'Mẹ Nhu', 'Bờ Quan 6', 'Trung Hòa 2', 'Nguyễn Thị Định', 'Đa Mặn 8', 'Đông Hải 9', 'Hòa Minh 11', 'Bùi Lâm', 'Lê Văn Hiến', 'Hói Kiểng 31', 'Long Biên', 'An Đồn 4', 'Pasteur', 'Phú Lộc 19', 'Bạch Thái Bưởi', 'Hoàng Trọng Mậu', 'Trần Kế Xương', 'Lỗ Giáng 17', 'An Thượng 29', 'Phạm văn Trang', 'Hồ Nguyên Trừng', 'An Hải Bắc 6', 'Phước Trường 6', 'Phạm Thận Duật', 'Nguyễn Tri Phương', 'Bàu Mạc 12', 'Dương Bá Cung', 'Mỹ Đa Tây 1', 'Hoài Thanh (nối dài)', 'Hồ Biểu Chánh', 'Phần Lăng 16', 'Trần Đức Thảo', 'Đào Cam Mộc', 'Hồ Qúy Ly', 'Hồ Thấu', 'Mộc Bài 3', 'Bàu Hạc 6', 'Xuân Thiều 4', 'An Hải 6', 'An Cư 3', 'Phong Bắc 3', 'Nại Tú 3', 'Quảng Nam', 'Tân Thái 3', 'K20', 'Nguyễn Đỗ Mục', 'Tôn Đức Thắng', 'Cổ Mân Mai 5', 'Đông Trà 1', 'Đặng Thai Mai', 'Nguyễn Công Sáu', 'Trần Can', 'Đào Trí', 'Bùi Bỉnh Uyên', 'Phạm Tứ', 'Hói Kiểng 26', 'Nại Tú 4', 'Trà Ban 2', 'Lương Ngọc Quyến', 'Lê Trọng Tấn', 'Lê Văn Đức', 'Hà Hồi', 'Tiên Sơn 20', 'Đoàn Khuê', 'Đà Sơn 7', 'Hòa An 3', 'Nhân Hoà 2', 'Bàu Mạc 15', 'Trần Nguyên Hãn', 'Suối Đá 1', 'Nguyễn Chế Nghĩa', 'Thanh Vinh 10', 'An Hải 20', 'Hòa Minh 5', 'Cồn Dầu 4', 'An Nhơn 6', 'Bình Hoà 1', 'Đà Sơn 8', 'Vùng Trung 5', 'Kiều Phụng', 'Ngô Đức kế', 'Hà Xuân 1', 'Phong Bắc 9', 'An Hải Bắc 2', 'Lê Văn Linh', 'Vùng Trung 4', 'Trần Quốc Hoàn', 'Dương Tụ Quán', 'Dương Văn An', 'Lê Thị Tính', 'Trung Lương 2', 'Hùng Vương', 'Xuân Thiều 3', 'Hòa Mỹ 2', 'Nhân Hoà 3', 'Đào Duy Tùng', 'Ngô Văn Sở', 'Tùng Lâm 9', 'Hoàng Việt', 'Nam Sơn 4', 'Phạm Vinh', 'Hàm Trung 7', 'Mỹ Đa Đông 3', 'Hồ Sỹ Dương', 'An Thượng 14', 'Nguyễn Huy Lượng', 'Tăng Bạt Hổ', 'Phú Lộc 1', 'Đông Hải 1', 'Xuân Thiều 6', 'Thanh Duyên', 'Lê Chân', 'An Nhơn 8', 'Vũ Văn Dũng', 'Lỗ Giáng 3', 'Lý Thái Tổ', 'Đông Hải 4', 'Phạm Phú Thứ', 'Hòa An 4', 'Hòa An 10', 'công', 'An Đồn 3', 'Ngũ Hành Sơn', 'Liêm Lạc 2', 'Tân An 4', 'Mai Hắc Đế', 'Sơn Thủy Đông 2', 'An Thượng 5', 'Phú Thạnh 5', 'Phù Đổng', 'Lê Lộ', 'Quán Khải 1', 'Tùng Lâm 10', 'Nơ Trang Lơng', 'Trần Lê', 'Trần Nhật Duật', 'Đoàn Nguyễn Tuấn', 'Đỗ Tự', 'Ngô Chi Lan', 'Phan Hành Sơn', 'Hồng Thái', 'Thành Vinh 1', 'Thân Nhân Trung', 'Cao Sơn 6', 'Đa Mặn 6', 'Hòa Nam 1', 'Francis Henry Loseby', 'Hoàng Đức Lương', 'Tiên Sơn 8', 'Tiên Sơn 11', 'Nhơn Hòa 1', 'Nguyễn Thiện Thuật', 'Thân Cảnh Phúc', 'An Thượng 36', 'Mai Am', 'Phan Bôi', 'Nguyễn Tất Thành', 'Cẩm Bắc 3', 'Cồn Dầu 5', 'Hàm Trung 3', 'Trà Na 1', 'Phần Lăng 19', 'An Hải 17', 'Phú Lộc 17', 'Nguyễn Quang Lâm', 'Nguyễn Đăng Giai', 'Nam Sơn 5', 'Anh Thơ', 'Lưu Quang Vũ', 'Vũng Thùng 5', 'Bình Minh 1', 'Mỹ Khê 4', 'Tiên Sơn 14', 'Đồng Kè', 'La Bông 1', 'Thế Lữ', 'Mân Quang 6', 'Mỹ Đa Đông 2', 'Mỹ An 22', 'Võ Duy Ninh', 'Thuận An 4', 'Lê Tấn Toán', 'Hoàng Thiều Hoa', 'Đông Lợi 1 (Khu Gia đình quân nhân 372 )', 'Phú Lộc 14', 'Ngô Thị Sỹ', 'An Ngãi 4', 'An Nhơn 11', 'Nguyễn Giản Thanh 2', 'An Hải 18', 'An Ngãi 5', 'Phong Bắc 19', 'Bình Hoà 8', 'Tố Hữu', 'Lê Phụ Trần 2', 'An Thượng 7', 'Phan Đình Thông', 'Tân An 3', 'Đô Đốc Tuyết', 'Mỹ An 17', 'Đinh Châu', 'Cổ Mân Cúc 2', 'Trà Lộ', 'An Nhơn 2', 'Tiên Sơn 2', 'Mân Quang 5', 'Đồng Trí 5', 'Đông Lợi 2', 'Hòa Minh 13', 'Phùng Tá Chu', 'Hóa Sơn 6', 'Nguyễn Trung Trực', 'Hòa Nam 6', 'Dương Bích Liên', 'Ngọc Hân', 'Trung Hòa 1', 'Cồn Dầu 7', 'Lỗ Giáng 20', 'Cao Xuân Dục', 'An Thượng 35', 'Phạm Như Xương', 'Đông Hải 10', 'Nguyễn Duy', 'An Thượng 1', 'Hoàng Thị Ái', 'Phú Lộc 16', 'Đỗ Quang', 'La Bông 5', 'Đặng Hồi Xuân', 'Tiên Sơn 18', 'Nguyễn Đỗ Cung', 'Tôn Quang Phiệt (nối dài)', 'Bờ Quan 4', 'Phùng Hưng', 'Lê Cơ (nối dài)', 'Cẩm Nam 2', 'Mỹ Thị 3', 'Trung Nghĩa 1', 'Phạm Văn Xảo', 'An Hải 1', 'Bàu Trãng 2', 'Hồ Tương', 'Nại Hiên Đông 11', 'Nguyễn Bá Phát', 'Tuy Lý Vương', 'La Bông 3', 'Bàu Vàng 1', 'Dương Tử Giang', 'Nguyễn Duy Cung', 'Phạm văn Ngôn', 'Cổ Mân 8', 'Giáp Hải', 'An Thượng 28', 'An Hải 15', 'Dương Đức Hiền', 'Liêm Lạc 6', 'Chơn Tâm 3', 'Phạm Hữu Kính', 'Tạ Hiện', 'Phan Khôi', 'Bá Giáng 1', 'Tân Lập 1', 'Hòa Mỹ 9', 'Thanh Khê 6', 'An Hải 19', 'Tốt Động', 'Trưng Nữ Vương', 'An Hoà 9', 'Trung Lương 4', 'Ngô Gia Tự', 'Phan Kế Bính', 'Mân Quang 2', 'Nguyễn Chí Diễu', 'Lê Văn Thịnh', 'Nguyễn Xuân Hữu', 'Tiên Sơn 5', 'Phan Văn Đạt', 'Mỹ An 9', 'Lê Cơ', 'Nguyễn Thức Đường', 'Đinh Đạt', 'Hòa Minh 20', 'Nguyễn Dữ', 'Nhơn Hòa Phước 3', 'Trương Đăng Quế', 'Hoàng Châu Ký', 'Hòa Mỹ 3', 'Nguyễn Quang Bích', 'Trương Minh Giảng', 'Khái Đông 3', 'Cẩm Nam 4', 'Thuận An 3', 'Ỷ Lan Nguyên Phi', 'Nguyễn Thế Lộc', 'Lê Thành Phương', 'Đa Phước 8', 'Trần Quang Khải (nối dài)', 'Nguyễn Lai', 'Nguyễn Phan Chánh', 'Cẩm Bắc 8', 'Nguyễn Hồng', 'Bình Hoà 7', 'Đô Đốc Lộc', 'Chơn Tâm 8', 'Bùi Thị Xuân', 'Nguyễn Sơn Trà', 'Thuỷ Sơn 5', 'ủy quận Nhì Đà Nẵng', 'Nguyễn Đình Trọng (nối dài)', 'Đặng Chiêm', 'Trần Quốc Thảo', 'Nguyễn Cảnh Chân', 'Đông Trà 2', 'Mỹ Thị', 'Hải Sơn', 'Nguyễn Công Hoan', 'Thành Thái', 'Tiên Sơn 9', 'Nguyễn Hàng Chi', 'Trà Ban 3', 'Dương Sơn 2', 'Đoàn Nguyên Thục', 'Lê Văn Hưu', 'Hòa Mỹ 1', 'Thái Văn A', 'Chơn Tâm 4', 'Bùi Chát', 'Mỹ An 23', 'Nguyễn Hữu Tiến', 'Bàu Mạc 4', 'Hói Kiểng 33', 'An Cư 5', 'Mỹ Đa Tây 2', 'Bờ Quan 10', 'Mai Đăng Chơn', 'Xuân Thủy (nối dài)', 'Trưng Nhị', 'Hoàng Thúc Trâm', 'Nhơn Hòa Phước 2', 'Tiên Sơn 6', 'Hòa An 9', 'Yên Khê 1', 'Tôn Quang Phiệt', 'Hòa Bình 4', 'Võ Nghĩa', 'Hàm Nghi', 'Tây Sơn', 'Tôn Thất Thiệp', 'Hoàng Bật Đạt', 'Hòa Minh 9', 'Võ Thị Sáu', 'Thượng Đức', 'Cao Thắng', 'Nguyễn Huy Oánh', 'Đặng Đức Siêu', 'Phạm Đức Nam', 'Bùi Hữu Nghĩa', 'Bàu Trãng 1', 'An Hải Bắc 8', 'Phong Bắc 1', 'An Hải 3', 'Hòa Minh 18', 'Bình Hoà 12', 'Mỹ An 18', 'An Cư 1', 'Nại Nghĩa 4', 'Nhơn Hòa 7', 'Mỹ An 2', 'Đinh Liệt', 'Nguyễn Cao Luyện', 'An Hải Bắc 5', 'An Hải Bắc 4', 'Đa Phước 7', 'Mỹ An 1', 'Nguyễn Văn Tạo', 'Quốc lộ 1A', 'Khánh An 12', 'Tôn Thất Đạm', 'Nguyễn Phú Hường', 'Ông Ích Khiêm', 'Đồng Trí 3', 'Nguyễn Văn Thủ', 'Trịnh Đình Thảo', 'Vũ Miên', 'Phan Tứ', 'Đồng Trí 2', 'Phần Lăng 15', 'Cô Giang', 'Hòa Minh 1', 'Phạm Kiệt', 'Bàu Hạc 5', 'Tân Thái 1', 'Cổ Mân Cúc 3', 'Cẩm Chánh 4', 'Liên Chiểu', 'Tân Lập 2', 'Đức Lợi 3', 'Nhơn Hòa 8', 'Cẩm Bắc 10', 'Trần Khánh Dư', 'Dương Tự Minh', 'Nguyễn Huy Tự', 'Ngô Thì Nhậm', 'Lý Nam Đế', 'Đà Sơn 4', 'Nại Hiên Đông 12', 'Xô Viết Nghệ Tĩnh', 'Mỹ Thị 1', 'Hòa Phú 29', 'Nam Sơn 3', 'Cao Sơn 8', 'Dương Sơn 8', 'Hồ Sĩ Phấn', 'Tôn Thất Tùng', 'Giang Văn Minh', 'Nguyễn Văn Nguyễn', 'Dương Sơn 10', 'Đá Mọc 3', 'Cao Sơn 1', 'Nguyễn Súy', 'Trần Văn Dư (nối dài)', 'Núi Thành', 'Bá Giáng 8', 'Mân Quang 10', 'Thi Sách', 'Hằng Phương Nữ Sĩ', 'Kiều Oánh Mậu', 'Hói Kiểng 23', 'Trần Đại Nghĩa', 'Trung Nghĩa 5', 'Lê Quát', 'Trần Mai Ninh', 'Tuệ Tĩnh', 'Vân Đài Nữ Sĩ', 'Đông Hải 7', 'Nguyễn Hữu Thọ', 'Chúc Động', 'Dương Trí Thạch', 'Vũng Thùng 1', 'Bình Minh 3', 'Cô Bắc', 'Phan Bội Châu', 'Tôn Thất Thuyết', 'Vũ Thạnh', 'Tùng Thiện Vương', 'Bàu Nghè 3', 'Đào Nghiễm', 'Phạm Khiêm Ích', 'Phạm Hồng Thái', 'Đặng Dung', 'Đông Hải 3', 'Suối Đá 3', 'Phú Thạnh 3', 'Mộc Sơn 2', 'An Hoà 5', 'Bàu Mạc 5', 'Phạm Bành', 'Xuân Đán 1', 'Đồng Khởi', 'Quán Khái 11', 'Thanh Sơn', 'Hà Tông Quyền', 'Nguyễn Bình', 'Quán Khải 5', 'Hoàng Sa', 'Mỹ Đa Đông 5', 'Phan Phu Tiên', 'Lê Thị Xuyến', 'Tiên Sơn 4', 'Phan Huy Thực', 'Mộc Sơn 3', 'Nguyễn Dục', 'Phạm văn Nghị', 'Thanh Vinh 9', 'Trịnh Khả', 'Phạm Tu', 'Đinh Tiên Hoàng', 'Đò Xu 3', 'Hoàng Bích Sơn', 'Võ Như Khương', 'Trà Na 2', 'Thanh Vinh 17', 'Nguyễn Thái Bình', 'Bàu Nghè 6', 'Nguyễn Đình Hiến', 'Đinh Núp', 'Lê Sát', 'An Hải 7', 'Đặng Huy Trứ', 'Phạm Tuấn Tài', 'Trần Huy Liệu (nối dài)', 'Nguyễn Trung Trực (nối dài)', 'Bàu Mạc 9', 'Trung Lương 1', 'Phan Văn Trường', 'Đào Công Chính', 'Liêm Lạc 7', 'Hòa Nam 5', 'Điểm cuối', 'An Tư Công Chúa', 'Lạc Long Quân', 'Lê Văn Sỹ', 'Nhơn Hòa 3', 'Trà Na 3', 'Nguyễn Tuấn Thiện', 'Hoàng Minh Giám', 'An Nhơn 7', 'Đặng Xuân Thiều', 'Nguyễn Bá Lân', 'Huỳnh Ngọc Huệ', 'Hòa Phú 32', 'Hòa An 6', 'Phan Trọng Tuệ', 'Lỗ Giáng 4', 'Phong Bắc 18', 'An Ngãi 3', 'Quang Trung', 'Hói Kiểng 21', 'Chơn Tâm 1', 'Khuê Đông', 'Tân Thái 9', 'Bàu Vàng 3', 'Bờ Quan 7', 'Nhân Hoà 4', 'Bắc Đẩu', 'Phú Lộc 6', 'Nhân Hoà 1', 'Nam Thọ 5', 'Nguyễn Quốc Trị', 'Phan Đăng Lưu', 'Đào Duy Từ', 'Trung Nghĩa 3', 'Đoàn Thị Điểm', 'Lê Văn Long', 'Hồ Sĩ Tân', 'Đào Sư Tích', 'Đội Cấn', 'Xuân Thiều 8', 'Quốc lộ 14B', 'Hóa Sơn 5', 'Đặng Phúc Thông', 'Đa Phước 9', 'Thanh Vinh 5', 'Mỹ An 24', 'Ngô Thì Trí', 'Hải Châu', 'Ba Gia', 'Đào Tấn (nối dài)', 'Nguyễn Huy Chương', 'Hoàng Phê', 'An Cư 2', 'Hưng Hóa 2', 'Nguyễn Văn Linh', 'Huỳnh Thị Bảo Hòa', 'Quán Khải 6', 'Đàm Quang Trung', 'Nguyễn Hoàng', 'Nguyễn Khắc Cần', 'Vùng Trung 3', 'Hưng Hóa 4', 'Bùi Xuân Phái', 'Lê Đình Dương', 'Man Thiện', 'Nguyễn Sinh Sắc', 'Nguyễn Thành Hãn', 'Nguyễn Đình Trân', 'Trần Đình Tri', 'Đỗ Nhuận', 'Nguyễn Xí', 'Nguyễn Trường Tộ', 'Cẩm Nam 6', 'Kinh Dương Vương', 'Hoàng Ngọc Phách', 'Trần Văn Hai', 'Thanh Vinh 15', 'Mỹ An 6', 'Nguyễn Văn Tố', 'Nguyễn Trác', 'Cổ Mân Lan 4', 'Văn Tiến Dũng', 'Phú Lộc 8', 'Tế Hanh', 'Thôi Hữu', 'Nguyễn Trác 2', 'Hóa Sơn 3', 'An Nhơn 10', 'Vũ Ngọc Nhạ', 'Đỗ Năng Tế', 'Thanh Vinh 1', 'Đỗ Xuân Hợp', 'Ngô Thế Vinh', 'Nguyễn Nhàn', 'Cẩm Nam 5', 'Đa Phước 4', 'Bát Nàn Công Chúa', 'Lê Đình Thám', 'Văn Cận', 'Nguyễn Khắc Viện', 'Phần Lăng 4', 'Đông Du', 'Lý Chính Thắng', 'Ngô Quyền', 'Thanh Vinh 11', 'Hồ Nghinh', 'Bế Văn Đàn', 'Nguyễn Sáng', 'An Trung 3', 'Văn Thánh 4', 'Phước mỹ', 'Phan Nhu', 'An Hải 9', 'Đinh Lễ', 'Mỹ Đa Đông 1', 'Võ Văn Đồng', 'Khuê Mỹ Đông 2', 'Chơn Tâm 2', 'Lê Văn Huân', 'Hói Kiểng 29', 'Mộc Bài 1', 'Chu Huy Mân', 'Hải Hồ', 'Bàu Hạc 7', 'Lê Đình Diên', 'Nhơn Hòa 2', 'Phú Lộc 10', 'Lê Duy Lương', 'Từ Giấy', 'Nguyễn Giản Thanh', 'Vũ Cán', 'Trung Hòa 5', 'Ngyễn Xuân Ôn', 'Yết Kiêu', 'Nhân Hoà 5', 'Sử Hy Nhan', 'Ba Đình', 'Tô Ngọc Vân', 'Dương Sơn 4', 'Ngô Mây', 'Lê Văn Lương', 'Đoàn Phú Tứ', 'Hói Kiểng 22', 'Trần Phước Thành (nối dài)', 'Huỳnh Mẫn Đạt', 'Liêm Lạc 9', 'Bàu Nghè 8', 'Mân Quang 9', 'Hòa Minh 15', 'Lỗ Giáng 6', 'Võ Trường Toản', 'Trường Sơn', 'Trương Công Hy', 'Lỗ Giáng 24', 'Phong Bắc 4', 'Thuỷ Sơn 2', 'Hòa Phú 21', 'Phan Đinh Giót', 'Vũ Đình Long', 'Phú Lộc 5', 'Hòa Minh 7', 'Thanh Vinh 16', 'Lê Đình Lý', 'Song Hào', 'Nguyễn Quyền', 'Bờ Quan 2', 'Bình Thái 3', 'Đặng Như Mai', 'Nguyễn Minh Chấn', 'Nguyễn Đóa', 'Thanh Vinh 14', 'Sơn Thủy Đông 3', 'Trung Lương 3', 'Bàu Mạc 14', 'Bàu Mạc 8', 'Nam Sơn 2', 'Hàm Trung 4', 'Nại Hiên Đông 15', 'Lương Nhữ Hộc', 'Trần Bình Trọng', 'Ngô Thị Liễu', 'Phước Mỹ', 'An Xuân 1', 'Nguyễn Duy Trinh', 'Nguyên Hồng', 'Nại Nghĩa 5', 'Nguyễn Hữu An', 'Nguyễn Gia Thiều', 'Hoa Lư', 'Nguyễn Đức Cảnh', 'Trần Đình Long', 'Văn Thánh 2', 'Trần Quang Khải', 'Phước Hòa 3', 'Mộc Bài 4', 'Phong Bắc 10', 'An Ngãi 1', 'Mỹ Đa Tây 4', 'Lê Bình', 'Hoàng Văn Lai', 'Xuân Thiều 11', 'Ngô Thì Hiệu', 'Nguyễn Công Hãng', 'An Xuân 2', 'An Trung 2', 'Đinh Thị Hòa', 'Cổ Mân 3', 'Nại Hiên Đông 18', 'Phan Tòng', 'Nguyễn Tư Giản', 'Phú Lộc 18', 'Lê Độ', 'Xuân Thiều 38', 'Đông Kinh Nghĩa Thục', 'Thanh Hải', 'Phạm Nỗi', 'Tân Thái 8', 'Dương Cát Lợi', 'Nguyễn Lộ Trạch', 'Mộc Sơn 4', 'An Thượng 17', 'An Nông', 'Đặng Xuân Bảng', 'Cổ Mân 7', 'Đỗ Bí', 'Cẩm Chánh 1', 'Thanh Vinh 4', 'Phú Thạnh 4', 'Hà Văn Trí', 'Nguyễn Đình Chiểu', 'An Hoà 11', 'Lý Văn Phức', 'Lưu Trùng Dương', 'Phú Lộc 11', 'An Hoà 12', 'Nhất Chi Mai', 'An Thượng 15', 'An Ngãi 2', 'Lê Văn Quý', 'Phan Thúc Duyện', 'Nại Hiên Đông 17', 'An Thượng 33', 'Tiên Sơn 10', 'Cẩm Bắc 6', 'Tiên Sơn 7', 'Lỗ Giáng 16', 'An Thượng 34', 'Cao Sơn 2', 'An Hoà 10', 'Nguyễn Hành', 'An Ngãi 9', 'Cổ Mân 9', 'Bàu Nghè 1', 'Đỗ Thế Chấp', 'Hói Kiểng 27', 'Nam Sơn 1', 'Huỳnh Văn Đảnh', 'Phan Châu Trinh', 'Khúc Hạo', 'Thuỷ Sơn 3', 'Lý Thánh Tông', 'Hoàng Tăng Bí', 'Lý Thường Kiệt', 'Cao Bá Nhạ', 'Tùng Lâm 7', 'Norman Morrison', 'Trà Ban 1', 'Trần Hoành', 'Bờ Quan 11', 'Bàu Vàng 4', 'Giang Châu 1', 'Nguyễn Văn Hưởng', 'Văn Thánh 1', 'Sơn Thủy 3', 'Bàu Nghè 9', 'Cẩm Bắc 7', 'Hòa An 5', 'Đa Phước 1', 'Nam Thọ 3', 'Nam Thọ 2', 'Phan Thành tài', 'Sơn Thủy 1', 'Nguyễn An Ninh', 'Hoàng Văn Hòe', 'Ngô Xuân Thu', 'Mỹ An 8', 'Hà Bổng', 'Mạc Cửu', 'An Đồn 1', 'Phan Thị Nể', 'Hà Huy Tập', 'Hà Xuân 2', 'Phan Liêm', 'Hà Tông Huân', 'Mỹ An 20', 'Huỳnh Lý', 'Trương Định', 'Nguyễn Xuân Khoát', 'Nguyễn Thành Ý', 'Trung Hòa 4', 'Hói Kiểng 30', 'Lê Thước', 'Nguyễn Thị Bảy', 'Lý Văn Tố', 'Lỗ Giáng 5', 'Nguyễn Thi', 'Tiên Sơn 1', 'Đa Mặn 10', 'Lê Quang Sung', 'Hà Chương', 'Cẩm Lệ', 'Hóa Sơn 2', 'Chu Lai', 'Hói Kiểng 24', 'Trần Quốc Toản', 'Huy Cận', 'Nguyễn Viết Xuân', 'Bá Giáng 3', 'Mai Lão Bạng', 'Phước Trường 2', 'Trần Tấn', 'Triệu Việt Vương', 'Trần Văn Đán', 'Bàu Trãng 4', 'Hoàng Kế Viêm', 'Hàm Tử', 'Lê Thiệt', 'Chu Cẩm Phong', 'Trần Thái Tông', 'Mai Dị (cũ)', 'Đa Mặn 4', 'Nam Thọ 4', 'Bàu Mạc 6', 'Bà Bang Nhãn', 'Giang Châu 3', 'Quán Khải 3', 'Lý Nhật Quang', 'Giang Châu 2', 'Trần Lựu', 'Cổ Mân Cúc 4', 'Đinh Gia Khánh', 'Khái Đông 2', 'Cổ Mân Lan 1', 'Đá Mọc 2', 'Xuân Thiều 37', 'Xuân Thiều 2', 'An Ngãi 8', 'Ấp Bắc nối dài', 'Cẩm Chánh 5', 'Nhơn Hòa Phước 1', 'Phong Bắc 6', 'Bờ Quan 5', 'Hòa Phú 25', 'Doãn Uẩn', 'Nghiêm Xuân Yêm', 'Yersin', 'Nguyễn Phong Sắc', 'Vũng Thùng 3', 'Phong Bắc 20', 'Hòa An 11', 'Cẩm Bắc 2', 'An Nhơn 1', 'Thanh Khê', 'Bùi Vịnh', 'Hoàng Dư Khương', 'Lê Đức Thọ', 'Phú Thạnh 1', 'Cổ Mân 2', 'Vạn Tường', 'Nguyễn Xiển', 'Bùi Tá Hán', 'Thạch Lam', 'Vũng Thùng 4', 'Hòa An 8', 'Đai An 2', 'Quán Khái 12', 'An Thượng 2', 'Nại Nghĩa 3', 'Phó Đức Chính', 'An Thượng 9', 'Nguyễn Duy Hiệu', 'Văn Tân', 'Trần Triệu Luật', 'Ngô Cao Lãng', 'Phan Ngọc Nhân', 'Vùng Trung 2', 'Vũng Thùng 2', 'Hòa Minh 16', 'Hòa Bình 3', 'Hồ Học Lãm', 'Đông Trà 4', 'Nguyễn Huy Tưởng', 'Hòa Phú 26', 'Phan Đình Phùng', 'Bàu Tràm Trung', 'Lâm Hoành', 'Lỗ Giáng 19', 'Trần Thánh Tông', 'Đai An 1', 'Mai Dị (nối dài)', 'Mỹ An 4', 'An Đồn 2', 'Nguyễn Du', 'Đỗ Ngọc Du', 'Thanh Thủy', 'Phú Lộc 2', 'Dương Sơn 5', 'Vũ Phạm Hàm', 'Trần Thị Lý', 'Trung Nghĩa 7', 'Nguyễn Đăng', 'Hói Kiểng 12', 'Cẩm Nam 1', 'Nguyễn Hàng', 'Nguyễn Minh Châu', 'Nguyễn Trung Ngạn 2', 'Lê Hữu Kiều', 'Phan Huy Ích', 'Hồ Tông Thốc', 'Ấp Bắc', 'Mỹ An 19', 'Bình Hoà 4', 'Quán Khải 2', 'Hòa Minh 8', 'Huỳnh Ngọc Đủ', 'Thuận An 6', 'Khe Sanh', 'Lỗ Giáng 7', 'Bờ Quan 12', 'Lỗ Giáng 22', '2/9', 'Nguyễn Thế Lịch', 'Thanh Vinh 12', 'Trần Quý Hai', 'Đoàn Quý Phi', 'Đa Phước 6', 'Sơn Thủy 7', 'Nại Nghĩa 2', 'Phan Tôn', 'Văn Thánh 3', 'Nam Thọ 6', 'Hóa Sơn 1', 'An Hoà 8', 'Hải Phòng', 'Trương Văn Hiến', 'Cổ Mân 5', 'An Thượng 23', 'Xuân Thiều 10', 'Bá Giáng 5', 'Mỹ Đa Đông 6', 'Phước Hòa 2', 'Cẩm Nam 7', 'Bình Hoà 5', 'Tiên Sơn 21', 'Tùng Lâm 1', 'Sơn Thủy Đông 1', 'Lê Đỉnh', 'Đoàn Nhữ Hài', 'Mạc Đĩnh Chi', 'Liêm Lạc 1', 'Trịnh Lỗi', 'Hưng Hóa 1', 'Bãi Sậy', 'Nguyễn Văn Huyên', 'Cẩm Nam 8', 'Mỹ Đa Tây 7', 'Chơn Tâm 6', 'Liêm Lạc 8', 'An Hoà 2', 'Sư Vạn Hạnh', 'Bờ Quan 14', 'Cẩm Lệ cung cấp', 'Lộc Ninh', 'Bàu Mạc 2', 'Mỹ Thị 4', 'Nhân Hoà 6', 'Trung Nghĩa 2', 'Nguyễn Cảnh Dị', 'Bàu Hạc 2', 'Nguyễn Đình Tứ', 'Nguyễn Nghiêm', 'Trần Huy Liệu', 'Trần Đăng Ninh', 'Nguyễn Như Hạnh', 'Cồn Dầu 6', 'Hoàng Sĩ Khải', 'Đặng Nhơn', 'Hà Đặc', 'Đinh Công Trứ', 'An Ngãi 7', 'Hưng Hóa 3', 'Lê Thạch', 'Lưu Quang Thuận', 'Xuân Diệu', 'Nguyễn Lương Bằng', 'Lỗ Giáng 9', 'Nguyễn Sơn', 'Đặng Dung (nối dài)', 'Bàu Tràm 1', 'Hàm Trung 2', '3/2', 'Tân Trà', 'Lê Văn Duyệt', 'Nguyễn Chánh', 'Vũ Tông Phan', 'Hòa Phú 27', 'Dương Thanh', 'Cổ Mân Lan 2', 'Đồng Trí 6', 'Đặng Tất', 'Đà Sơn 3', 'Quán Khái 9', 'Bình Hoà 3', 'Đào Nguyên Phổ', 'Đàm Văn Lễ', 'Trần Thanh Mại', 'Mỹ An 3', 'Phú Lộc 9', 'Sơn Thủy 6', 'Hà Mục', 'Nam Thọ 1', 'Đỗ Đăng Tuyển', 'Lê Hữu Trác', 'Tân Thái 7', 'Trung Lương 7', 'Hói Kiểng 11', 'An Thượng 24', 'Lương Thế Vinh', 'Trần Tống', 'Phước Trường 3', 'An Bắc 1', 'Nguyễn Thái Học (cũ)', 'Cổ Mân 6', 'Trần Văn Dư', 'ĐH.6', 'Phan Du', 'An Hải 10', 'Bờ Quan 3', 'III thành phố Đà Nẵng cũ', 'Phần Lăng 2', 'Sương Nguyệt Anh', 'Tiên Sơn 12', 'Cồn Dầu 8', 'Đa Mặn 1', 'Hóa Sơn 4', 'Tiên Sơn 16', 'Lê Hy Cát', 'Xuân Thiều 36', 'Hòa An 2', 'Như Nguyệt', 'An Hải 5', 'Lê Phụng Hiểu', 'An Hoà 4', 'Lâm Huỳnh', 'Sơn Thủy 4', 'Lê Quảng Ba', 'Trương Quyền', 'Phần Lăng 17', 'Vân Đồn', 'Ngô Sỹ Liên', 'Hói Kiểng 10', 'Phần Lăng 7', 'Hoàng Bình Chính', 'Trần Thuyết', 'Cổ Mân Mai 1', 'Sơn Trà', 'Xuân Thủy', 'Châu Thị Vĩnh Tế', 'Nguyễn Bỉnh Khiêm', 'Hòa Bình 6', 'An Nhơn 5', 'An Hoà 1', 'Đặng Nhữ Lâm', 'Bình Hoà 11', 'Lê Phụ Trần', 'Mai Văn Ngọc', 'Phước Trường 4', 'Cách mạng Tháng Tám/ Cách mạng tháng 8', 'An Vĩnh', 'Bàu Vàng 6', 'Phạm Nhữ tăng', 'Tiên Sơn 3', 'Mỹ Đa Tây 9', 'Phạm Đình Hổ', 'Lý Đạo Thành', 'Trần Đình Đàn', 'Đỗ Huy Uyển', 'Đỗ Hành', 'Nguyễn Hữu Cảnh', 'Trần Quang Diệu', 'Nguyễn Hữu Dật', 'Thu Bồn', 'Bàu Tràm 2', 'Đỗ Anh Hàn', 'Vũ Hữu', 'Bàu Hạc 4', 'Cổ Mân 4', 'Tiểu La', 'Vũ Huy Tấn', 'Đống Công Tường', 'Tùng Lâm 4', 'Điện Biên Phủ', 'Cổ Mân 1', 'Cẩm Chánh 3', 'An Hải 8', 'Norman Morrison (Morrison)', 'Trương Văn Đa', 'Mân Quang 1', 'Quang Dũng', 'Bình Kỳ', 'Nguyễn Khoái', 'Trịnh Khắc Lập', 'Nguyễn Đăng Đạo', 'Hòa Bình 7', 'Đông Hải 6', 'Cổ Mân Mai 2', 'Sơn Thủy 9', 'Lưu Văn Lang', 'Trương Xuân Nam', 'Ngô Viết Hữu', 'Xuân Thiều 14', 'Bà Huyện Thanh Quan', 'Nguyễn Phẩm', 'Nguyễn Lộ Trạch (nối dài)', 'Bàu Mạc 1', 'Thanh Long', 'Nguyễn Bá Học', 'Tạ Quang Bửu', 'Bàu Mạc 7', 'Đặng Thùy Trâm', 'An Thượng 27', 'Lê Thánh Tông', 'Phần Lăng 12', 'Nhơn Hòa 5', 'Nguyễn Hữu Thông', 'An Thượng 16', 'An Hải 21', 'An Thượng 6', 'Trần Khát Chân', 'Lỗ Giáng 2', 'Cồn Dầu 3', 'Mộc Sơn 1', 'Duy Tân', 'Nguyễn Đình Tựu', 'Hòa Minh 23', 'Đông Hải 12', 'Hói Kiểng 7', 'Trương Vân Lĩnh', 'Hàm Trung 9', 'Lê Văn Miến', 'Nguyễn Đức Thiệu', 'Thuận An 1', 'Hói Kiểng 8', 'Bá Giáng 7', 'Phạm Cự Lượng', 'Lương Khánh Thiện', 'Trần Cao Vân', 'Huỳnh Bá Chánh', 'Vũ Trọng Phụng', 'Ngô Thế Lân', 'Phú Lộc 4', 'Phạm Văn Đồng', 'Phần Lăng 18', 'Bá Giáng 10', 'Đặng Đình Vân', 'Nguyễn Cơ Thạch', 'Hồ Huân Nghiệp', 'An Hải Bắc 1', 'Đông Trà 5', 'Khuê Mỹ Đông 4', 'Trương Quang Giao', 'Trần Nguyên Đán', 'Tân An 1', 'Lý Tử Tấn', 'Nguyễn Thúy', 'Đào Duy Anh', 'An Dương Vương', 'Nguyễn Bảo', 'Hòa Minh 10', 'Đầm Rong 1', 'Xuân Hòa 2', 'Phong Bắc 8', 'Nguyễn Nghiễm', 'Nguyễn Phi Khanh', 'Việt Bắc', 'An Cư 4', 'Phạm Thiều', 'Nguyễn Văn Giáp', 'Lỗ Giáng 18', 'Xuân Thiều 7', 'Tân Trào', 'Lê Văn Thiêm', 'Cao Sơn 7', 'Cổ Mân Mai 3', 'Lê Anh Xuân', 'Hoàng Đạo Thúy', 'Quang Thành 2', 'Phan Hoan', 'Mẹ Hiền', 'Hòa Phú 28', 'Hói Kiểng 32', 'Bàu Trãng 6', 'An Thượng 26', 'Tùng Lâm 2', 'Cồn Dầu 1', 'Phan Thanh', 'Bàu Mạc 11', 'Đội Cung', 'An Hải 16', 'Phần Lăng 10', 'Bàu Hạc 3', 'Đầm Rong 2', 'Cẩm Bắc 11', 'Lê Hồng Phong', 'Giáp Văn Cương', 'Lê Ninh', 'Phan Bá Phiến', 'Mỹ Đa Đông 7', 'Tùng Lâm 8', 'Huỳnh Tấn Phát', 'Liêm Lạc 11', 'Nguyễn Thần Hiến', 'Đỗ Bá', 'An Hoà 3', 'An Nhơn 9', 'Nguyễn Lữ', 'An Cư 6', 'Hòa Minh 21', 'Đồng Bài 4', 'Dương Bá Trạc', 'Thanh Vinh 8', 'Cẩm Bắc 12', '30/4', 'Nhân Hoà 7', 'Phú Lộc 7', 'Phần Lăng 11', 'Nguyễn Minh Vân', 'Đà Sơn 5', 'Bùi Thế Mỹ', 'Hàm Trung 8', 'Trần Hữu Dực', 'Phạm Công Trứ', 'Tân Thái 5', 'Nại Nghĩa 6', 'Tản Đà', 'Nguyễn Phước Thái', 'Hòa Minh 22', 'Bá Giáng 2', 'Dương Sơn 6', 'Phong Bắc 16', 'Nguyễn Kiều', 'Sơn Thủy 2', 'Hói Kiểng 20', 'Yên Khê 2', 'Đoàn Hữu Trưng', 'Dũng Sỹ Thanh Khê', 'Nguyễn Nho Túy', 'Lê Bá Trinh(cũ)', 'Lỗ Giáng 23', 'Đặng Chất', 'Phước Trường 1', 'Phan Tốn', 'Đà Sơn', 'Bắc Sơn', 'Bình Giã', 'Quang Thành 1', 'Cao Bá Quát', 'Mai Xuân Thưởng', 'Mỹ An 7', 'Nguyễn Hanh', 'Đinh Công Tráng', 'Hòa Phú 31', 'Trần Văn Trà']\n"
     ]
    }
   ],
   "source": [
    "from embeddings import TFIDFEmbedding, CharNgramEmbedding\n",
    "\n",
    "combined = list(set(df[\"street\"].values).union(set(df[\"district\"].values)))\n",
    "print(\"combined\", (combined))\n",
    "# embedding = TFIDFEmbedding(combined)\n",
    "embedding = CharNgramEmbedding(combined)\n",
    "embedding.export(\"../processed_data/chargram_embedding.pkl\")"
   ]
  }
 ],
 "metadata": {
  "kernelspec": {
   "display_name": "venv",
   "language": "python",
   "name": "python3"
  },
  "language_info": {
   "codemirror_mode": {
    "name": "ipython",
    "version": 3
   },
   "file_extension": ".py",
   "mimetype": "text/x-python",
   "name": "python",
   "nbconvert_exporter": "python",
   "pygments_lexer": "ipython3",
   "version": "3.12.9"
  }
 },
 "nbformat": 4,
 "nbformat_minor": 5
}
