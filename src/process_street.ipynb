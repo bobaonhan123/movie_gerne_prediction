{
 "cells": [
  {
   "cell_type": "markdown",
   "id": "1a9a2d3c",
   "metadata": {},
   "source": [
    "### Generate street name and district mapping\n",
    "- We will generate a mapping of street names to districts using the dataset \"Danh sách tên các con đường tại thành phố Đà Nẵng\" [1]"
   ]
  },
  {
   "cell_type": "code",
   "execution_count": 1,
   "id": "a51f553e",
   "metadata": {},
   "outputs": [],
   "source": [
    "import pandas as pd\n",
    "import re\n",
    "import numpy as np\n",
    "\n",
    "df = pd.read_excel(\"../input_data/danh_sach_ten_cac_con_duong_tai_thanh_pho_da_nang_.xlsx\")\n",
    "\n",
    "def extract_quan(mo_ta):\n",
    "    if not isinstance(mo_ta, str):\n",
    "        return None\n",
    "    match = re.search(r\"quận[:\\s]*([^\\n\\.,\\d]*)\", mo_ta, re.IGNORECASE)\n",
    "    if match:\n",
    "        return match.group(1).strip()\n",
    "    matches = re.findall(r\"quận[:\\s]*([^\\n\\.,\\d]*)\", mo_ta, re.IGNORECASE)\n",
    "    districts = [m.strip() for m in matches if m.strip()]\n",
    "    if districts:\n",
    "        return \", \".join(districts)\n",
    "    # Nếu không tìm thấy, thử regex khác\n",
    "    matches = re.findall(r\"thuộc quận[:\\s]*([^\\n\\.,\\d]*)\", mo_ta, re.IGNORECASE)\n",
    "    districts = [m.strip() for m in matches if m.strip()]\n",
    "    if districts:\n",
    "        return \", \".join(districts)\n",
    "    # Thử thêm một regex nữa nếu vẫn chưa có\n",
    "    matches = re.findall(r\"phường[:\\s]*[^\\n\\.,\\d]*,\\s*quận[:\\s]*([^\\n\\.,\\d]*)\", mo_ta, re.IGNORECASE)\n",
    "    districts = [m.strip() for m in matches if m.strip()]\n",
    "    if districts:\n",
    "        return \", \".join(districts)\n",
    "    return None\n",
    "\n",
    "\n",
    "df[\"district\"] = df[\"Mô tả\"].apply(extract_quan)\n",
    "df[\"street\"] = df[\"Tên đường\"]\n",
    "df[\"district\"] = (\n",
    "    df[\"district\"]\n",
    "    .astype(str)\n",
    "    .str.replace(r\"\\s+\", \" \", regex=True)           # Replace multiple spaces with one\n",
    "    .str.strip()                                    # Remove leading/trailing spaces\n",
    "    .str.replace(r\"[^a-zA-ZÀ-ỹà-ỹ0-9\\s]\", \"\", regex=True)  # Remove non-alphanumeric (keep Vietnamese chars)\n",
    ")\n",
    "df[\"street\"] = df[\"street\"].astype(str).str.strip()\n",
    "df = df.drop_duplicates(subset=[\"street\"], keep=\"first\")\n"
   ]
  },
  {
   "cell_type": "markdown",
   "id": "45223984",
   "metadata": {},
   "source": [
    "### Random with roulette wheel selection\n",
    "- We will use a random selection method with roulette wheel selection to choose a street name and district from the generated mapping."
   ]
  },
  {
   "cell_type": "code",
   "execution_count": 2,
   "id": "d880ccf5",
   "metadata": {},
   "outputs": [],
   "source": [
    "valid_districts = df[\"district\"][df[\"district\"].notnull() & (df[\"district\"].str.strip() != \"\") & (df[\"district\"].str.strip() != \"None\")]\n",
    "\n",
    "district_counts = valid_districts.value_counts(normalize=True)\n",
    "\n",
    "mask_missing = df[\"district\"].isnull() | (df[\"district\"].str.strip() == \"\") | (df[\"district\"].str.strip() == \"None\")\n",
    "\n",
    "np.random.seed(42)\n",
    "\n",
    "random_districts = np.random.choice(\n",
    "    district_counts.index,\n",
    "    size=mask_missing.sum(),\n",
    "    p=district_counts.values\n",
    ")\n",
    "\n",
    "df.loc[mask_missing, \"district\"] = random_districts\n"
   ]
  },
  {
   "cell_type": "markdown",
   "id": "7d7f99df",
   "metadata": {},
   "source": [
    "### Comments: The output data still contains rows such as \"Nguyễn Triệu Luật, Ngũ Hành Sơn vào năm\", which indicates that further normalization is needed.\n",
    "- We will use dynamic programming to normalize the district names."
   ]
  },
  {
   "cell_type": "code",
   "execution_count": 3,
   "id": "a6eeb28e",
   "metadata": {},
   "outputs": [],
   "source": [
    "from algorithms import StringComparison\n",
    "# Re-read the Excel file to get candidate district names for normalization (assumes the file contains columns \"Tỉnh / Thành Phố\" and \"Tên\")\n",
    "df_candidate = pd.read_excel(\"../input_data/DanhSachCapHuyen14_05_2025.xlsx\")\n",
    "\n",
    "# Filter by city \"Thành phố Đà Nẵng\"\n",
    "df_candidate = df_candidate[df_candidate[\"Tỉnh / Thành Phố\"] == \"Thành phố Đà Nẵng\"]\n",
    "\n",
    "# Get unique candidate names from the \"Tên\" column\n",
    "candidate_districts = df_candidate[\"Tên\"].dropna().unique()\n",
    "\n",
    "# Normalize the district column in df using candidate names if similarity >= 0.7\n",
    "def normalize_district(district):\n",
    "    best_match = district\n",
    "    best_ratio = 0.0\n",
    "    for cand in candidate_districts:\n",
    "        comparison = StringComparison(district.lower(), str(cand).lower())\n",
    "        ratio = comparison.similarity()\n",
    "        if ratio >= 0.7 and ratio > best_ratio:\n",
    "            best_match = cand\n",
    "            best_ratio = ratio\n",
    "    return best_match\n",
    "\n",
    "df[\"district\"] = df[\"district\"].apply(normalize_district)\n",
    "df[\"district\"] = df[\"district\"].str.replace(r\"\\bQuận\\s*\", \"\", regex=True)"
   ]
  },
  {
   "cell_type": "code",
   "execution_count": 4,
   "id": "ca509793",
   "metadata": {},
   "outputs": [
    {
     "name": "stdout",
     "output_type": "stream",
     "text": [
      "Exported district and street to processed_data/street_district.csv\n"
     ]
    }
   ],
   "source": [
    "\n",
    "df[[\"street\", \"district\"]].to_csv(\"../processed_data/street_district.csv\", index=False)\n",
    "print(\"Exported district and street to processed_data/street_district.csv\")"
   ]
  },
  {
   "cell_type": "code",
   "execution_count": 5,
   "id": "d5090eb1",
   "metadata": {},
   "outputs": [],
   "source": [
    "from embeddings import TFIDFEmbedding, CharNgramEmbedding\n",
    "\n",
    "combined = list(set(df[\"street\"].values).union(set(df[\"district\"].values)))\n",
    "# embedding = TFIDFEmbedding(combined)\n",
    "embedding = CharNgramEmbedding(combined)\n",
    "embedding.export(\"../processed_data/chargram_embedding.pkl\")"
   ]
  }
 ],
 "metadata": {
  "kernelspec": {
   "display_name": "venv",
   "language": "python",
   "name": "python3"
  },
  "language_info": {
   "codemirror_mode": {
    "name": "ipython",
    "version": 3
   },
   "file_extension": ".py",
   "mimetype": "text/x-python",
   "name": "python",
   "nbconvert_exporter": "python",
   "pygments_lexer": "ipython3",
   "version": "3.12.9"
  }
 },
 "nbformat": 4,
 "nbformat_minor": 5
}
